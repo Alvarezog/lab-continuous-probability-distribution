{
 "cells": [
  {
   "cell_type": "markdown",
   "metadata": {},
   "source": [
    "# Before your start:\n",
    "\n",
    "    Read the README.md file\n",
    "    Comment as much as you can and use the resources (README.md file)\n",
    "    Happy learning!"
   ]
  },
  {
   "cell_type": "markdown",
   "metadata": {},
   "source": [
    "In this exercise, we  will generate random numbers from the continuous disributions we learned in the lesson. There are two ways to generate random numbers:\n",
    "\n",
    "1. Using the numpy library \n",
    "1. using the Scipy library \n",
    "\n",
    "Use either or both of the lbraries in this exercise."
   ]
  },
  {
   "cell_type": "markdown",
   "metadata": {},
   "source": [
    "## Uniform Distribution\n",
    "\n",
    "To generate uniform random numbers between any two given values using scipy, we can either use the following code or the code that we have\n",
    "discussed in class:"
   ]
  },
  {
   "cell_type": "code",
   "execution_count": 1,
   "metadata": {},
   "outputs": [
    {
     "name": "stdout",
     "output_type": "stream",
     "text": [
      "[2.04806018 2.41891157 2.59323132 2.6263753  2.8978413  2.42308851\n",
      " 2.80615884 2.19447115 2.34884764 2.37196707]\n"
     ]
    }
   ],
   "source": [
    "from scipy.stats import uniform\n",
    "x = uniform.rvs(size=10)\n",
    "a = 2\n",
    "b = 3\n",
    "randoms  = a + (b-a)*x\n",
    "print(randoms)"
   ]
  },
  {
   "cell_type": "markdown",
   "metadata": {},
   "source": [
    "**Your task:**\n",
    "\n",
    "1. Based on the code above, write a function that generates uniformly distributed random numbers. There are several requirements for your function:\n",
    "    * It should accept 3 parameters: \n",
    "        * `bottom` - the lower boundary of the generated numbers\n",
    "        * `ceiling` - the upper boundary of the generated numbers\n",
    "        * `count` - how many numbers to generate\n",
    "    * It should return an array of uniformly distributed random numbers\n",
    "\n",
    "1. Call your function with 2 sets of params below:\n",
    "    * bottom=10, ceiling=15, count=100\n",
    "    * bottom=10, ceiling=60, count=1,000\n",
    "\n",
    "1. Plot the uniform distributions generated above using histograms, where x axis is the value and y axis is the count. Let the histogram's number of bins be 10.\n",
    "\n",
    "Your output should look like below:\n",
    "\n",
    "![uniform distribution](ud.png)"
   ]
  },
  {
   "cell_type": "code",
   "execution_count": 2,
   "metadata": {},
   "outputs": [],
   "source": [
    "from scipy.stats import norm\n",
    "import math\n",
    "import numpy as np\n",
    "import pandas as pd\n",
    "import matplotlib.pyplot as plt\n",
    "import seaborn as sns"
   ]
  },
  {
   "cell_type": "code",
   "execution_count": 39,
   "metadata": {},
   "outputs": [],
   "source": [
    "# your code here\n",
    "def random_normal(bottom,ceiling,count):\n",
    "    x = norm.rvs(size=count, loc=((ceiling+bottom)/2), scale=((ceiling+bottom)/8))\n",
    "    \n",
    "    return x   "
   ]
  },
  {
   "cell_type": "code",
   "execution_count": 40,
   "metadata": {},
   "outputs": [],
   "source": [
    "r = random_normal(10,15,100)"
   ]
  },
  {
   "cell_type": "code",
   "execution_count": 41,
   "metadata": {
    "scrolled": true
   },
   "outputs": [
    {
     "data": {
      "text/plain": [
       "(array([ 3.,  2.,  6., 11., 26., 15., 16., 12.,  3.,  6.]),\n",
       " array([ 4.88929429,  6.35916656,  7.82903884,  9.29891111, 10.76878339,\n",
       "        12.23865566, 13.70852793, 15.17840021, 16.64827248, 18.11814476,\n",
       "        19.58801703]),\n",
       " <BarContainer object of 10 artists>)"
      ]
     },
     "execution_count": 41,
     "metadata": {},
     "output_type": "execute_result"
    },
    {
     "data": {
      "image/png": "[encoded data removed]",
      "text/plain": [
       "<Figure size 432x288 with 1 Axes>"
      ]
     },
     "metadata": {
      "needs_background": "light"
     },
     "output_type": "display_data"
    }
   ],
   "source": [
    "plt.hist(r,bins='auto')"
   ]
  },
  {
   "cell_type": "code",
   "execution_count": 42,
   "metadata": {},
   "outputs": [],
   "source": [
    "r2 = random_normal(10,60,1000)"
   ]
  },
  {
   "cell_type": "code",
   "execution_count": 43,
   "metadata": {},
   "outputs": [
    {
     "data": {
      "text/plain": [
       "(array([  1.,   1.,   7.,   8.,  15.,  30.,  27.,  60.,  79., 102., 111.,\n",
       "        108.,  90.,  86.,  88.,  63.,  45.,  38.,  21.,  13.,   2.,   2.,\n",
       "          3.]),\n",
       " array([ 7.41566863,  9.78616423, 12.15665982, 14.52715542, 16.89765101,\n",
       "        19.26814661, 21.6386422 , 24.0091378 , 26.3796334 , 28.75012899,\n",
       "        31.12062459, 33.49112018, 35.86161578, 38.23211137, 40.60260697,\n",
       "        42.97310257, 45.34359816, 47.71409376, 50.08458935, 52.45508495,\n",
       "        54.82558055, 57.19607614, 59.56657174, 61.93706733]),\n",
       " <BarContainer object of 23 artists>)"
      ]
     },
     "execution_count": 43,
     "metadata": {},
     "output_type": "execute_result"
    },
    {
     "data": {
      "image/png": "[encoded data removed]",
      "text/plain": [
       "<Figure size 432x288 with 1 Axes>"
      ]
     },
     "metadata": {
      "needs_background": "light"
     },
     "output_type": "display_data"
    }
   ],
   "source": [
    "plt.hist(r2,bins='auto')"
   ]
  },
  {
   "cell_type": "markdown",
   "metadata": {},
   "source": [
    "How are the two distributions different?"
   ]
  },
  {
   "cell_type": "code",
   "execution_count": null,
   "metadata": {},
   "outputs": [],
   "source": [
    "# your answer below\n",
    "\"\"\" The second chart looks similar to a normal distrubtion\n",
    "probably because of the number of datapoint that are used.\"\"\""
   ]
  },
  {
   "cell_type": "markdown",
   "metadata": {},
   "source": [
    "## Normal Distribution\n",
    "\n",
    "1. In the same way in the Uniform Distribution challenge, write a function that generates normally distributed random numbers.\n",
    "1. Generate 1,000 normally distributed numbers with the average of 10 and standard deviation of 1\n",
    "1. Generate 1,000 normally distributed numbers with the average of 10 and standard deviation of 50\n",
    "2. Plot the distributions of the data generated.\n",
    "\n",
    "Expected output:\n",
    "\n",
    "![normal distribution](nd.png)"
   ]
  },
  {
   "cell_type": "code",
   "execution_count": 45,
   "metadata": {},
   "outputs": [],
   "source": [
    "# your code here\n",
    "def random_normal_2(numbers, average, s_deviation):\n",
    "    x = norm.rvs(size=numbers, loc=average, scale=s_deviation)\n",
    "    \n",
    "    return x   "
   ]
  },
  {
   "cell_type": "code",
   "execution_count": 46,
   "metadata": {},
   "outputs": [],
   "source": [
    "graph1 = random_normal_2(1000,10,1)\n",
    "graph2 = random_normal_2(1000,10,50)"
   ]
  },
  {
   "cell_type": "code",
   "execution_count": 49,
   "metadata": {},
   "outputs": [
    {
     "data": {
      "text/plain": [
       "(array([  1.,   0.,   3.,   3.,   8.,  11.,  24.,  31.,  44.,  57.,  91.,\n",
       "         99., 102., 121.,  84.,  97.,  67.,  57.,  33.,  28.,  23.,  10.,\n",
       "          3.,   1.,   0.,   2.]),\n",
       " array([ 6.4478538 ,  6.71086245,  6.97387109,  7.23687974,  7.49988839,\n",
       "         7.76289704,  8.02590568,  8.28891433,  8.55192298,  8.81493163,\n",
       "         9.07794027,  9.34094892,  9.60395757,  9.86696622, 10.12997486,\n",
       "        10.39298351, 10.65599216, 10.91900081, 11.18200945, 11.4450181 ,\n",
       "        11.70802675, 11.9710354 , 12.23404404, 12.49705269, 12.76006134,\n",
       "        13.02306999, 13.28607863]),\n",
       " <BarContainer object of 26 artists>)"
      ]
     },
     "execution_count": 49,
     "metadata": {},
     "output_type": "execute_result"
    },
    {
     "data": {
      "image/png": "[encoded data removed]",
      "text/plain": [
       "<Figure size 432x288 with 1 Axes>"
      ]
     },
     "metadata": {
      "needs_background": "light"
     },
     "output_type": "display_data"
    }
   ],
   "source": [
    "plt.hist(graph1,bins='auto')"
   ]
  },
  {
   "cell_type": "code",
   "execution_count": 51,
   "metadata": {},
   "outputs": [
    {
     "data": {
      "text/plain": [
       "(array([  2.,   1.,   2.,   8.,  19.,  28.,  49.,  63.,  80.,  99.,  85.,\n",
       "        109., 109.,  90.,  73.,  66.,  48.,  25.,  17.,  19.,   5.,   1.,\n",
       "          1.,   1.]),\n",
       " array([-146.61181186, -132.97752373, -119.3432356 , -105.70894747,\n",
       "         -92.07465934,  -78.4403712 ,  -64.80608307,  -51.17179494,\n",
       "         -37.53750681,  -23.90321868,  -10.26893055,    3.36535758,\n",
       "          16.99964571,   30.63393384,   44.26822197,   57.9025101 ,\n",
       "          71.53679823,   85.17108636,   98.80537449,  112.43966262,\n",
       "         126.07395075,  139.70823889,  153.34252702,  166.97681515,\n",
       "         180.61110328]),\n",
       " <BarContainer object of 24 artists>)"
      ]
     },
     "execution_count": 51,
     "metadata": {},
     "output_type": "execute_result"
    },
    {
     "data": {
      "image/png": "[encoded data removed]",
      "text/plain": [
       "<Figure size 432x288 with 1 Axes>"
      ]
     },
     "metadata": {
      "needs_background": "light"
     },
     "output_type": "display_data"
    }
   ],
   "source": [
    "plt.hist(graph2,bins='auto')"
   ]
  },
  {
   "cell_type": "markdown",
   "metadata": {},
   "source": [
    "How are the two distributions different?"
   ]
  },
  {
   "cell_type": "code",
   "execution_count": 52,
   "metadata": {},
   "outputs": [
    {
     "data": {
      "text/plain": [
       "' The second distribution is more spread out\\n    than the firts one, beacuse the standard deviation\\n    is much higher, but the highest point of the curve \\n    is located in the same point for both curves.'"
      ]
     },
     "execution_count": 52,
     "metadata": {},
     "output_type": "execute_result"
    }
   ],
   "source": [
    "# your answer below\n",
    "\"\"\" The second distribution is more spread out\n",
    "    than the firts one, beacuse the standard deviation\n",
    "    is much higher, but the highest point of the curve \n",
    "    is located in the same point for both curves.\"\"\""
   ]
  },
  {
   "cell_type": "markdown",
   "metadata": {},
   "source": [
    "## Normal Distribution of Real Data\n",
    "\n",
    "In this challenge we are going to take a look the real data. We will use vehicles.csv file for this exercise"
   ]
  },
  {
   "cell_type": "markdown",
   "metadata": {},
   "source": [
    "First import vehicles.csv.\n",
    "Then plot the histograms for the following variables:\n",
    "\n",
    "1. Fuel Barrels/Year"
   ]
  },
  {
   "cell_type": "code",
   "execution_count": 53,
   "metadata": {},
   "outputs": [],
   "source": [
    "# your code here\n",
    "vehicles = pd.read_csv(\"vehicles.csv\")"
   ]
  },
  {
   "cell_type": "code",
   "execution_count": 63,
   "metadata": {},
   "outputs": [
    {
     "data": {
      "text/plain": [
       "count    35952.000000\n",
       "mean        17.609056\n",
       "std          4.467283\n",
       "min          0.060000\n",
       "25%         14.699423\n",
       "50%         17.347895\n",
       "75%         20.600625\n",
       "max         47.087143\n",
       "Name: Fuel Barrels/Year, dtype: float64"
      ]
     },
     "execution_count": 63,
     "metadata": {},
     "output_type": "execute_result"
    }
   ],
   "source": [
    "vehicles[\"Fuel Barrels/Year\"].describe()"
   ]
  },
  {
   "cell_type": "code",
   "execution_count": 77,
   "metadata": {
    "scrolled": true
   },
   "outputs": [
    {
     "data": {
      "text/plain": [
       "(array([6.000e+01, 0.000e+00, 0.000e+00, 0.000e+00, 3.000e+00, 2.000e+00,\n",
       "        0.000e+00, 0.000e+00, 3.000e+00, 5.000e+00, 2.000e+00, 2.000e+00,\n",
       "        0.000e+00, 1.300e+01, 1.000e+00, 0.000e+00, 4.000e+00, 1.000e+01,\n",
       "        1.100e+01, 2.900e+01, 1.300e+01, 4.100e+01, 1.030e+02, 1.600e+01,\n",
       "        4.600e+01, 4.400e+01, 5.500e+01, 2.330e+02, 1.790e+02, 2.600e+02,\n",
       "        3.800e+02, 5.070e+02, 6.370e+02, 1.600e+01, 6.730e+02, 1.035e+03,\n",
       "        1.257e+03, 0.000e+00, 1.552e+03, 2.800e+01, 1.762e+03, 2.258e+03,\n",
       "        2.800e+01, 3.120e+03, 1.900e+01, 0.000e+00, 3.092e+03, 0.000e+00,\n",
       "        3.231e+03, 0.000e+00, 3.700e+01, 3.492e+03, 0.000e+00, 3.100e+01,\n",
       "        2.277e+03, 0.000e+00, 7.900e+01, 2.226e+03, 0.000e+00, 6.500e+01,\n",
       "        0.000e+00, 2.210e+03, 1.380e+02, 0.000e+00, 0.000e+00, 1.940e+03,\n",
       "        8.600e+01, 0.000e+00, 0.000e+00, 0.000e+00, 1.245e+03, 3.000e+01,\n",
       "        0.000e+00, 0.000e+00, 0.000e+00, 0.000e+00, 7.350e+02, 0.000e+00,\n",
       "        0.000e+00, 0.000e+00, 0.000e+00, 0.000e+00, 0.000e+00, 4.390e+02,\n",
       "        0.000e+00, 0.000e+00, 0.000e+00, 0.000e+00, 0.000e+00, 0.000e+00,\n",
       "        0.000e+00, 0.000e+00, 1.300e+02, 0.000e+00, 0.000e+00, 0.000e+00,\n",
       "        0.000e+00, 0.000e+00, 0.000e+00, 0.000e+00, 0.000e+00, 0.000e+00,\n",
       "        3.600e+01, 0.000e+00, 0.000e+00, 0.000e+00, 0.000e+00, 0.000e+00,\n",
       "        0.000e+00, 0.000e+00, 0.000e+00, 0.000e+00, 0.000e+00, 0.000e+00,\n",
       "        0.000e+00, 2.100e+01, 0.000e+00, 0.000e+00, 0.000e+00, 0.000e+00,\n",
       "        0.000e+00, 0.000e+00, 0.000e+00, 0.000e+00, 0.000e+00, 0.000e+00,\n",
       "        0.000e+00, 0.000e+00, 0.000e+00, 0.000e+00, 0.000e+00, 5.000e+00]),\n",
       " array([ 0.06      ,  0.41626623,  0.77253247,  1.1287987 ,  1.48506494,\n",
       "         1.84133117,  2.1975974 ,  2.55386364,  2.91012987,  3.2663961 ,\n",
       "         3.62266234,  3.97892857,  4.33519481,  4.69146104,  5.04772727,\n",
       "         5.40399351,  5.76025974,  6.11652597,  6.47279221,  6.82905844,\n",
       "         7.18532468,  7.54159091,  7.89785714,  8.25412338,  8.61038961,\n",
       "         8.96665584,  9.32292208,  9.67918831, 10.03545455, 10.39172078,\n",
       "        10.74798701, 11.10425325, 11.46051948, 11.81678571, 12.17305195,\n",
       "        12.52931818, 12.88558442, 13.24185065, 13.59811688, 13.95438312,\n",
       "        14.31064935, 14.66691558, 15.02318182, 15.37944805, 15.73571429,\n",
       "        16.09198052, 16.44824675, 16.80451299, 17.16077922, 17.51704545,\n",
       "        17.87331169, 18.22957792, 18.58584416, 18.94211039, 19.29837662,\n",
       "        19.65464286, 20.01090909, 20.36717532, 20.72344156, 21.07970779,\n",
       "        21.43597403, 21.79224026, 22.14850649, 22.50477273, 22.86103896,\n",
       "        23.21730519, 23.57357143, 23.92983766, 24.2861039 , 24.64237013,\n",
       "        24.99863636, 25.3549026 , 25.71116883, 26.06743506, 26.4237013 ,\n",
       "        26.77996753, 27.13623377, 27.4925    , 27.84876623, 28.20503247,\n",
       "        28.5612987 , 28.91756494, 29.27383117, 29.6300974 , 29.98636364,\n",
       "        30.34262987, 30.6988961 , 31.05516234, 31.41142857, 31.76769481,\n",
       "        32.12396104, 32.48022727, 32.83649351, 33.19275974, 33.54902597,\n",
       "        33.90529221, 34.26155844, 34.61782468, 34.97409091, 35.33035714,\n",
       "        35.68662338, 36.04288961, 36.39915584, 36.75542208, 37.11168831,\n",
       "        37.46795455, 37.82422078, 38.18048701, 38.53675325, 38.89301948,\n",
       "        39.24928571, 39.60555195, 39.96181818, 40.31808442, 40.67435065,\n",
       "        41.03061688, 41.38688312, 41.74314935, 42.09941558, 42.45568182,\n",
       "        42.81194805, 43.16821429, 43.52448052, 43.88074675, 44.23701299,\n",
       "        44.59327922, 44.94954545, 45.30581169, 45.66207792, 46.01834416,\n",
       "        46.37461039, 46.73087662, 47.08714286]),\n",
       " <BarContainer object of 132 artists>)"
      ]
     },
     "execution_count": 77,
     "metadata": {},
     "output_type": "execute_result"
    },
    {
     "data": {
      "image/png": "[encoded data removed]",
      "text/plain": [
       "<Figure size 432x288 with 1 Axes>"
      ]
     },
     "metadata": {},
     "output_type": "display_data"
    }
   ],
   "source": [
    "mean = 17.60\n",
    "stdev = 4.46\n",
    "plt.figure(facecolor = 'w')\n",
    "plt.hist(vehicles[\"Fuel Barrels/Year\"],bins='auto')\n"
   ]
  },
  {
   "cell_type": "markdown",
   "metadata": {},
   "source": [
    "2. CO2 Emission Grams/Mile "
   ]
  },
  {
   "cell_type": "code",
   "execution_count": 58,
   "metadata": {},
   "outputs": [
    {
     "data": {
      "text/plain": [
       "(array([3.4000e+01, 8.3200e+02, 1.0205e+04, 1.5411e+04, 6.8250e+03,\n",
       "        2.0100e+03, 5.7300e+02, 3.6000e+01, 2.1000e+01, 5.0000e+00]),\n",
       " array([  37.        ,  160.25714286,  283.51428571,  406.77142857,\n",
       "         530.02857143,  653.28571429,  776.54285714,  899.8       ,\n",
       "        1023.05714286, 1146.31428571, 1269.57142857]),\n",
       " <BarContainer object of 10 artists>)"
      ]
     },
     "execution_count": 58,
     "metadata": {},
     "output_type": "execute_result"
    },
    {
     "data": {
      "image/png": "[encoded data removed]",
      "text/plain": [
       "<Figure size 432x288 with 1 Axes>"
      ]
     },
     "metadata": {
      "needs_background": "light"
     },
     "output_type": "display_data"
    }
   ],
   "source": [
    "# your code here\n",
    "plt.hist(vehicles[\"CO2 Emission Grams/Mile\"])"
   ]
  },
  {
   "cell_type": "markdown",
   "metadata": {},
   "source": [
    "3. Combined MPG"
   ]
  },
  {
   "cell_type": "code",
   "execution_count": 59,
   "metadata": {},
   "outputs": [
    {
     "data": {
      "text/plain": [
       "(array([6.3800e+02, 8.4990e+03, 1.5512e+04, 7.9320e+03, 2.4160e+03,\n",
       "        6.3600e+02, 2.1000e+02, 6.5000e+01, 3.3000e+01, 1.1000e+01]),\n",
       " array([ 7. , 11.9, 16.8, 21.7, 26.6, 31.5, 36.4, 41.3, 46.2, 51.1, 56. ]),\n",
       " <BarContainer object of 10 artists>)"
      ]
     },
     "execution_count": 59,
     "metadata": {},
     "output_type": "execute_result"
    },
    {
     "data": {
      "image/png": "[encoded data removed]",
      "text/plain": [
       "<Figure size 432x288 with 1 Axes>"
      ]
     },
     "metadata": {
      "needs_background": "light"
     },
     "output_type": "display_data"
    }
   ],
   "source": [
    "# your code \n",
    "plt.hist(vehicles[\"Combined MPG\"])"
   ]
  },
  {
   "cell_type": "markdown",
   "metadata": {},
   "source": [
    "Which one(s) of the variables are nearly normally distributed? How do you know?"
   ]
  },
  {
   "cell_type": "code",
   "execution_count": 72,
   "metadata": {},
   "outputs": [
    {
     "data": {
      "text/plain": [
       "count    35952.000000\n",
       "mean       475.316339\n",
       "std        119.060773\n",
       "min         37.000000\n",
       "25%        395.000000\n",
       "50%        467.736842\n",
       "75%        555.437500\n",
       "max       1269.571429\n",
       "Name: CO2 Emission Grams/Mile, dtype: float64"
      ]
     },
     "execution_count": 72,
     "metadata": {},
     "output_type": "execute_result"
    }
   ],
   "source": [
    "vehicles[\"CO2 Emission Grams/Mile\"].describe()"
   ]
  },
  {
   "cell_type": "code",
   "execution_count": 75,
   "metadata": {},
   "outputs": [
    {
     "data": {
      "image/png": "[encoded data removed]",
      "text/plain": [
       "<Figure size 720x504 with 1 Axes>"
      ]
     },
     "metadata": {},
     "output_type": "display_data"
    }
   ],
   "source": [
    "mean = 475.316339\n",
    "stdev = 119.060773\n",
    "\n"
   ]
  },
  {
   "cell_type": "markdown",
   "metadata": {},
   "source": [
    "## Exponential Distribution"
   ]
  },
  {
   "cell_type": "markdown",
   "metadata": {},
   "source": [
    "1. Using `numpy.random.exponential`, create a function that returns a list of numbers exponentially distributed with the mean of 10. \n",
    "\n",
    "1. Use the function to generate two number sequences with the size of 1 and 100.\n",
    "\n",
    "1. Plot the distributions as histograms with the nubmer of bins as 100.\n",
    "\n",
    "Your output should look like below:\n",
    "\n",
    "![exponential distribution](ed.png)"
   ]
  },
  {
   "cell_type": "code",
   "execution_count": 4,
   "metadata": {},
   "outputs": [],
   "source": [
    "# your code here\n",
    "def exp_generator(x):\n",
    "    exp_numbers = np.random.exponential(10.0,x)\n",
    "    return exp_numbers"
   ]
  },
  {
   "cell_type": "code",
   "execution_count": 5,
   "metadata": {},
   "outputs": [],
   "source": [
    "exp_1 = exp_generator(1)\n",
    "exp_100 = exp_generator(100)"
   ]
  },
  {
   "cell_type": "code",
   "execution_count": 8,
   "metadata": {},
   "outputs": [
    {
     "data": {
      "text/plain": [
       "(array([0., 0., 0., 0., 0., 0., 0., 0., 0., 0., 0., 0., 0., 0., 0., 0., 0.,\n",
       "        0., 0., 0., 0., 0., 0., 0., 0., 0., 0., 0., 0., 0., 0., 0., 0., 0.,\n",
       "        0., 0., 0., 0., 0., 0., 0., 0., 0., 0., 0., 0., 0., 0., 0., 0., 1.,\n",
       "        0., 0., 0., 0., 0., 0., 0., 0., 0., 0., 0., 0., 0., 0., 0., 0., 0.,\n",
       "        0., 0., 0., 0., 0., 0., 0., 0., 0., 0., 0., 0., 0., 0., 0., 0., 0.,\n",
       "        0., 0., 0., 0., 0., 0., 0., 0., 0., 0., 0., 0., 0., 0., 0.]),\n",
       " array([0.59112539, 0.60112539, 0.61112539, 0.62112539, 0.63112539,\n",
       "        0.64112539, 0.65112539, 0.66112539, 0.67112539, 0.68112539,\n",
       "        0.69112539, 0.70112539, 0.71112539, 0.72112539, 0.73112539,\n",
       "        0.74112539, 0.75112539, 0.76112539, 0.77112539, 0.78112539,\n",
       "        0.79112539, 0.80112539, 0.81112539, 0.82112539, 0.83112539,\n",
       "        0.84112539, 0.85112539, 0.86112539, 0.87112539, 0.88112539,\n",
       "        0.89112539, 0.90112539, 0.91112539, 0.92112539, 0.93112539,\n",
       "        0.94112539, 0.95112539, 0.96112539, 0.97112539, 0.98112539,\n",
       "        0.99112539, 1.00112539, 1.01112539, 1.02112539, 1.03112539,\n",
       "        1.04112539, 1.05112539, 1.06112539, 1.07112539, 1.08112539,\n",
       "        1.09112539, 1.10112539, 1.11112539, 1.12112539, 1.13112539,\n",
       "        1.14112539, 1.15112539, 1.16112539, 1.17112539, 1.18112539,\n",
       "        1.19112539, 1.20112539, 1.21112539, 1.22112539, 1.23112539,\n",
       "        1.24112539, 1.25112539, 1.26112539, 1.27112539, 1.28112539,\n",
       "        1.29112539, 1.30112539, 1.31112539, 1.32112539, 1.33112539,\n",
       "        1.34112539, 1.35112539, 1.36112539, 1.37112539, 1.38112539,\n",
       "        1.39112539, 1.40112539, 1.41112539, 1.42112539, 1.43112539,\n",
       "        1.44112539, 1.45112539, 1.46112539, 1.47112539, 1.48112539,\n",
       "        1.49112539, 1.50112539, 1.51112539, 1.52112539, 1.53112539,\n",
       "        1.54112539, 1.55112539, 1.56112539, 1.57112539, 1.58112539,\n",
       "        1.59112539]),\n",
       " <BarContainer object of 100 artists>)"
      ]
     },
     "execution_count": 8,
     "metadata": {},
     "output_type": "execute_result"
    },
    {
     "data": {
      "image/png": "[encoded data removed]",
      "text/plain": [
       "<Figure size 432x288 with 1 Axes>"
      ]
     },
     "metadata": {
      "needs_background": "light"
     },
     "output_type": "display_data"
    }
   ],
   "source": [
    "plt.hist(exp_1, bins=100)"
   ]
  },
  {
   "cell_type": "code",
   "execution_count": 9,
   "metadata": {},
   "outputs": [
    {
     "data": {
      "text/plain": [
       "(array([6., 4., 3., 5., 5., 6., 3., 2., 3., 4., 2., 3., 4., 1., 3., 2., 5.,\n",
       "        5., 3., 2., 0., 2., 1., 1., 0., 2., 1., 1., 2., 1., 0., 3., 2., 0.,\n",
       "        1., 0., 1., 2., 0., 0., 0., 1., 0., 0., 0., 0., 0., 0., 1., 0., 0.,\n",
       "        0., 0., 0., 0., 1., 0., 0., 0., 0., 0., 1., 0., 0., 0., 0., 0., 0.,\n",
       "        0., 1., 0., 1., 0., 1., 0., 0., 0., 0., 0., 0., 0., 0., 0., 0., 0.,\n",
       "        0., 0., 0., 0., 1., 0., 0., 0., 0., 0., 0., 0., 0., 0., 1.]),\n",
       " array([2.71969297e-02, 5.93500064e-01, 1.15980320e+00, 1.72610633e+00,\n",
       "        2.29240947e+00, 2.85871260e+00, 3.42501574e+00, 3.99131887e+00,\n",
       "        4.55762200e+00, 5.12392514e+00, 5.69022827e+00, 6.25653141e+00,\n",
       "        6.82283454e+00, 7.38913768e+00, 7.95544081e+00, 8.52174395e+00,\n",
       "        9.08804708e+00, 9.65435021e+00, 1.02206533e+01, 1.07869565e+01,\n",
       "        1.13532596e+01, 1.19195628e+01, 1.24858659e+01, 1.30521690e+01,\n",
       "        1.36184722e+01, 1.41847753e+01, 1.47510784e+01, 1.53173816e+01,\n",
       "        1.58836847e+01, 1.64499878e+01, 1.70162910e+01, 1.75825941e+01,\n",
       "        1.81488972e+01, 1.87152004e+01, 1.92815035e+01, 1.98478066e+01,\n",
       "        2.04141098e+01, 2.09804129e+01, 2.15467160e+01, 2.21130192e+01,\n",
       "        2.26793223e+01, 2.32456254e+01, 2.38119286e+01, 2.43782317e+01,\n",
       "        2.49445348e+01, 2.55108380e+01, 2.60771411e+01, 2.66434442e+01,\n",
       "        2.72097474e+01, 2.77760505e+01, 2.83423536e+01, 2.89086568e+01,\n",
       "        2.94749599e+01, 3.00412631e+01, 3.06075662e+01, 3.11738693e+01,\n",
       "        3.17401725e+01, 3.23064756e+01, 3.28727787e+01, 3.34390819e+01,\n",
       "        3.40053850e+01, 3.45716881e+01, 3.51379913e+01, 3.57042944e+01,\n",
       "        3.62705975e+01, 3.68369007e+01, 3.74032038e+01, 3.79695069e+01,\n",
       "        3.85358101e+01, 3.91021132e+01, 3.96684163e+01, 4.02347195e+01,\n",
       "        4.08010226e+01, 4.13673257e+01, 4.19336289e+01, 4.24999320e+01,\n",
       "        4.30662351e+01, 4.36325383e+01, 4.41988414e+01, 4.47651445e+01,\n",
       "        4.53314477e+01, 4.58977508e+01, 4.64640540e+01, 4.70303571e+01,\n",
       "        4.75966602e+01, 4.81629634e+01, 4.87292665e+01, 4.92955696e+01,\n",
       "        4.98618728e+01, 5.04281759e+01, 5.09944790e+01, 5.15607822e+01,\n",
       "        5.21270853e+01, 5.26933884e+01, 5.32596916e+01, 5.38259947e+01,\n",
       "        5.43922978e+01, 5.49586010e+01, 5.55249041e+01, 5.60912072e+01,\n",
       "        5.66575104e+01]),\n",
       " <BarContainer object of 100 artists>)"
      ]
     },
     "execution_count": 9,
     "metadata": {},
     "output_type": "execute_result"
    },
    {
     "data": {
      "image/png": "[encoded data removed]",
      "text/plain": [
       "<Figure size 432x288 with 1 Axes>"
      ]
     },
     "metadata": {
      "needs_background": "light"
     },
     "output_type": "display_data"
    }
   ],
   "source": [
    "plt.hist(exp_100, bins=100)"
   ]
  },
  {
   "cell_type": "markdown",
   "metadata": {},
   "source": [
    "How are the two distributions different?"
   ]
  },
  {
   "cell_type": "code",
   "execution_count": 10,
   "metadata": {},
   "outputs": [
    {
     "data": {
      "text/plain": [
       "' The two graphs are very different. The first one shows a single element and the second graph show 100 elements arranged\\nin an exponential form with mean 10.'"
      ]
     },
     "execution_count": 10,
     "metadata": {},
     "output_type": "execute_result"
    }
   ],
   "source": [
    "# your answer here\n",
    "\"\"\" The two graphs are very different. The first one shows a single element and the second graph show 100 elements arranged\n",
    "in an exponential form with mean 10.\"\"\""
   ]
  },
  {
   "cell_type": "markdown",
   "metadata": {},
   "source": [
    "## Exponential Distribution of Real Data\n",
    "\n",
    "Suppose that the amount of time one spends in a bank is exponentially distributed with mean as 10 minutes (i.e. λ = 1/10). What is the probability that a customer will spend less than fifteen minutes in the bank? \n",
    "\n",
    "Write a code in python to solve this problem"
   ]
  },
  {
   "cell_type": "code",
   "execution_count": 11,
   "metadata": {},
   "outputs": [],
   "source": [
    "# your answer here\n",
    "# Hint: This is same as saying P(x<15)\n",
    "exp_gen = exp_generator(10000)"
   ]
  },
  {
   "cell_type": "code",
   "execution_count": 15,
   "metadata": {},
   "outputs": [],
   "source": [
    "from scipy import stats"
   ]
  },
  {
   "cell_type": "code",
   "execution_count": 24,
   "metadata": {},
   "outputs": [
    {
     "data": {
      "text/plain": [
       "(array([824., 795., 681., 660., 589., 601., 479., 442., 447., 396., 371.,\n",
       "        310., 264., 254., 260., 228., 198., 182., 214., 152., 133., 129.,\n",
       "        126.,  92.,  83., 104.,  84.,  84.,  96.,  62.,  62.,  54.,  43.,\n",
       "         54.,  35.,  35.,  28.,  29.,  26.,  32.,  27.,  20.,  23.,  15.,\n",
       "         17.,  10.,   8.,  14.,  10.,   7.,   4.,   6.,   8.,   4.,  10.,\n",
       "          3.,   5.,   5.,   6.,   5.,   4.,   8.,   5.,   1.,   4.,   5.,\n",
       "          1.,   1.,   3.,   0.,   5.,   2.,   4.,   0.,   1.,   3.,   0.,\n",
       "          1.,   1.,   1.,   1.,   1.,   0.,   1.,   0.,   0.,   0.,   0.,\n",
       "          0.,   0.,   0.,   0.,   0.,   0.,   0.,   0.,   0.,   0.,   1.,\n",
       "          1.]),\n",
       " array([2.03539329e-03, 9.07401467e-01, 1.81276754e+00, 2.71813361e+00,\n",
       "        3.62349969e+00, 4.52886576e+00, 5.43423183e+00, 6.33959791e+00,\n",
       "        7.24496398e+00, 8.15033006e+00, 9.05569613e+00, 9.96106220e+00,\n",
       "        1.08664283e+01, 1.17717943e+01, 1.26771604e+01, 1.35825265e+01,\n",
       "        1.44878926e+01, 1.53932586e+01, 1.62986247e+01, 1.72039908e+01,\n",
       "        1.81093569e+01, 1.90147229e+01, 1.99200890e+01, 2.08254551e+01,\n",
       "        2.17308212e+01, 2.26361872e+01, 2.35415533e+01, 2.44469194e+01,\n",
       "        2.53522855e+01, 2.62576515e+01, 2.71630176e+01, 2.80683837e+01,\n",
       "        2.89737497e+01, 2.98791158e+01, 3.07844819e+01, 3.16898480e+01,\n",
       "        3.25952140e+01, 3.35005801e+01, 3.44059462e+01, 3.53113123e+01,\n",
       "        3.62166783e+01, 3.71220444e+01, 3.80274105e+01, 3.89327766e+01,\n",
       "        3.98381426e+01, 4.07435087e+01, 4.16488748e+01, 4.25542408e+01,\n",
       "        4.34596069e+01, 4.43649730e+01, 4.52703391e+01, 4.61757051e+01,\n",
       "        4.70810712e+01, 4.79864373e+01, 4.88918034e+01, 4.97971694e+01,\n",
       "        5.07025355e+01, 5.16079016e+01, 5.25132677e+01, 5.34186337e+01,\n",
       "        5.43239998e+01, 5.52293659e+01, 5.61347320e+01, 5.70400980e+01,\n",
       "        5.79454641e+01, 5.88508302e+01, 5.97561962e+01, 6.06615623e+01,\n",
       "        6.15669284e+01, 6.24722945e+01, 6.33776605e+01, 6.42830266e+01,\n",
       "        6.51883927e+01, 6.60937588e+01, 6.69991248e+01, 6.79044909e+01,\n",
       "        6.88098570e+01, 6.97152231e+01, 7.06205891e+01, 7.15259552e+01,\n",
       "        7.24313213e+01, 7.33366873e+01, 7.42420534e+01, 7.51474195e+01,\n",
       "        7.60527856e+01, 7.69581516e+01, 7.78635177e+01, 7.87688838e+01,\n",
       "        7.96742499e+01, 8.05796159e+01, 8.14849820e+01, 8.23903481e+01,\n",
       "        8.32957142e+01, 8.42010802e+01, 8.51064463e+01, 8.60118124e+01,\n",
       "        8.69171785e+01, 8.78225445e+01, 8.87279106e+01, 8.96332767e+01,\n",
       "        9.05386427e+01]),\n",
       " <BarContainer object of 100 artists>)"
      ]
     },
     "execution_count": 24,
     "metadata": {},
     "output_type": "execute_result"
    },
    {
     "data": {
      "image/png": "[encoded data removed]",
      "text/plain": [
       "<Figure size 432x288 with 1 Axes>"
      ]
     },
     "metadata": {
      "needs_background": "light"
     },
     "output_type": "display_data"
    }
   ],
   "source": [
    "plt.hist(exp_gen, bins=100)"
   ]
  },
  {
   "cell_type": "code",
   "execution_count": 59,
   "metadata": {},
   "outputs": [],
   "source": [
    "s = 0\n",
    "for x in exp_gen:\n",
    "    if x <= 15:\n",
    "        s = s + 1\n",
    "p = s / len(exp_gen)        "
   ]
  },
  {
   "cell_type": "code",
   "execution_count": 60,
   "metadata": {
    "scrolled": true
   },
   "outputs": [
    {
     "data": {
      "text/plain": [
       "0.7709"
      ]
     },
     "execution_count": 60,
     "metadata": {},
     "output_type": "execute_result"
    }
   ],
   "source": [
    "p"
   ]
  },
  {
   "cell_type": "markdown",
   "metadata": {},
   "source": [
    "What is the probability that the customer will spend more than 15 minutes"
   ]
  },
  {
   "cell_type": "code",
   "execution_count": null,
   "metadata": {},
   "outputs": [],
   "source": [
    "# your answer here"
   ]
  },
  {
   "cell_type": "code",
   "execution_count": 57,
   "metadata": {},
   "outputs": [],
   "source": [
    "s = 0\n",
    "for x in exp_gen:\n",
    "    if x > 15:\n",
    "        s = s + 1\n",
    "p = s / len(exp_gen) "
   ]
  },
  {
   "cell_type": "code",
   "execution_count": 58,
   "metadata": {},
   "outputs": [
    {
     "data": {
      "text/plain": [
       "0.2291"
      ]
     },
     "execution_count": 58,
     "metadata": {},
     "output_type": "execute_result"
    }
   ],
   "source": [
    "p"
   ]
  },
  {
   "cell_type": "code",
   "execution_count": 62,
   "metadata": {},
   "outputs": [],
   "source": [
    "from scipy import stats"
   ]
  },
  {
   "cell_type": "code",
   "execution_count": 61,
   "metadata": {
    "scrolled": true
   },
   "outputs": [
    {
     "data": {
      "text/plain": [
       "0.2231301601484298"
      ]
     },
     "execution_count": 61,
     "metadata": {},
     "output_type": "execute_result"
    }
   ],
   "source": [
    "p2 = 1 - stats.expon.cdf(15, loc=0, scale=10) \n",
    "p2"
   ]
  }
 ],
 "metadata": {
  "kernelspec": {
   "display_name": "Python 3",
   "language": "python",
   "name": "python3"
  },
  "language_info": {
   "codemirror_mode": {
    "name": "ipython",
    "version": 3
   },
   "file_extension": ".py",
   "mimetype": "text/x-python",
   "name": "python",
   "nbconvert_exporter": "python",
   "pygments_lexer": "ipython3",
   "version": "3.9.5"
  }
 },
 "nbformat": 4,
 "nbformat_minor": 2
}
